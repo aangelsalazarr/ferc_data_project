{
 "cells": [
  {
   "cell_type": "code",
   "execution_count": 1,
   "metadata": {},
   "outputs": [],
   "source": [
    "import pandas as pd\n",
    "import eform_query_processor as eqp\n",
    "import os"
   ]
  },
  {
   "cell_type": "code",
   "execution_count": 2,
   "metadata": {},
   "outputs": [],
   "source": [
    "# setting up the absolute savepath\n",
    "save_path = r'C:\\Users\\aange\\OneDrive\\Desktop\\Personal Python Projects\\ferc_data_project\\ferc_714_xml_files_test'"
   ]
  },
  {
   "cell_type": "code",
   "execution_count": 3,
   "metadata": {},
   "outputs": [
    {
     "name": "stdout",
     "output_type": "stream",
     "text": [
      "<class 'pandas.core.frame.DataFrame'>\n",
      "RangeIndex: 153 entries, 0 to 152\n",
      "Data columns (total 8 columns):\n",
      " #   Column     Non-Null Count  Dtype \n",
      "---  ------     --------------  ----- \n",
      " 0   CID        153 non-null    object\n",
      " 1   Company    153 non-null    object\n",
      " 2   Form       153 non-null    object\n",
      " 3   Year       153 non-null    int64 \n",
      " 4   Period     153 non-null    object\n",
      " 5   Date/Time  153 non-null    object\n",
      " 6   Status     153 non-null    object\n",
      " 7   Filing ID  153 non-null    int64 \n",
      "dtypes: int64(2), object(6)\n",
      "memory usage: 9.7+ KB\n"
     ]
    }
   ],
   "source": [
    "# loading in df containing files we want to grab\n",
    "source_df = pd.read_csv('process_check/eform_filtered_data_2024-09-14.csv')\n",
    "\n",
    "source_df.info()"
   ]
  },
  {
   "cell_type": "code",
   "execution_count": 4,
   "metadata": {},
   "outputs": [
    {
     "name": "stdout",
     "output_type": "stream",
     "text": [
      "<class 'pandas.core.frame.DataFrame'>\n",
      "RangeIndex: 5 entries, 0 to 4\n",
      "Data columns (total 8 columns):\n",
      " #   Column     Non-Null Count  Dtype \n",
      "---  ------     --------------  ----- \n",
      " 0   CID        5 non-null      object\n",
      " 1   Company    5 non-null      object\n",
      " 2   Form       5 non-null      object\n",
      " 3   Year       5 non-null      int64 \n",
      " 4   Period     5 non-null      object\n",
      " 5   Date/Time  5 non-null      object\n",
      " 6   Status     5 non-null      object\n",
      " 7   Filing ID  5 non-null      int64 \n",
      "dtypes: int64(2), object(6)\n",
      "memory usage: 452.0+ bytes\n",
      "None\n",
      "       CID                                            Company      Form  Year  \\\n",
      "0  C000771                         Southwest Power Pool, Inc.  Form 714  2023   \n",
      "1  C000771                         Southwest Power Pool, Inc.  Form 714  2023   \n",
      "2  C000771                         Southwest Power Pool, Inc.  Form 714  2023   \n",
      "3  C004245  Salt River Project Agricultural Improvement an...  Form 714  2023   \n",
      "4  C000771                         Southwest Power Pool, Inc.  Form 714  2023   \n",
      "\n",
      "  Period           Date/Time    Status  Filing ID  \n",
      "0     Q4   7/9/2024, 4:25 PM  Accepted     192310  \n",
      "1     Q4   7/9/2024, 1:58 PM  Accepted     192309  \n",
      "2     Q4   7/8/2024, 9:13 AM  Accepted     192306  \n",
      "3     Q4  7/3/2024, 12:24 PM  Accepted     192277  \n",
      "4     Q4  6/17/2024, 8:45 AM  Accepted     182167  \n"
     ]
    }
   ],
   "source": [
    "# checking the first 5\n",
    "source_df_f5 = source_df[:5]\n",
    "\n",
    "print(source_df_f5.info())\n",
    "\n",
    "print(source_df_f5)"
   ]
  },
  {
   "cell_type": "code",
   "execution_count": 5,
   "metadata": {},
   "outputs": [
    {
     "name": "stdout",
     "output_type": "stream",
     "text": [
      "[192310, 192309, 192306, 192277, 182167]\n"
     ]
    }
   ],
   "source": [
    "# create a list of filing id\n",
    "filing_ids = list(source_df_f5['Filing ID'])\n",
    "print(filing_ids)"
   ]
  },
  {
   "cell_type": "code",
   "execution_count": 6,
   "metadata": {},
   "outputs": [
    {
     "name": "stderr",
     "output_type": "stream",
     "text": [
      "There was an error managing chromedriver (error sending request for url (https://googlechromelabs.github.io/chrome-for-testing/known-good-versions-with-downloads.json)); using driver found in the cache\n",
      "Error sending stats to Plausible: error sending request for url (https://plausible.io/api/event)\n"
     ]
    },
    {
     "name": "stdout",
     "output_type": "stream",
     "text": [
      "Southwest Power Pool, Inc._ferc_714_Q42023_192310.xml\n",
      "Southwest Power Pool, Inc._ferc_714_Q42023_192309.xml\n",
      "Southwest Power Pool, Inc._ferc_714_Q42023_192306.xml\n",
      "Salt River Project Agricultural Improvement and Power District_ferc_714_Q42023_192277.xml\n",
      "Southwest Power Pool, Inc._ferc_714_Q42023_182167.xml\n"
     ]
    }
   ],
   "source": [
    "# return files\n",
    "eqp.return_eform_filings(filing_ids=filing_ids, \n",
    "                         save_path=save_path)"
   ]
  },
  {
   "cell_type": "markdown",
   "metadata": {},
   "source": [
    "Now we want to get a sense of how to sort our directories by time stamp\n",
    "so that we can return a list of file paths to match with out pre existing\n",
    "filing ids dataframe, allowing us to rename duplicate named files to assess\n",
    "which files may have been revises or simply reuploaded at a later time."
   ]
  },
  {
   "cell_type": "code",
   "execution_count": 13,
   "metadata": {},
   "outputs": [],
   "source": [
    "# function to sort directory provided by either name or time\n",
    "def sort_directory(sort_by: str, dir_path: str):\n",
    "\n",
    "    '''\n",
    "    In essence, first select whether you want to sort directory by name or by date created\n",
    "    '''\n",
    "\n",
    "    # purpose is to return the time the file was created\n",
    "    def get_creation_time(item):\n",
    "        item_path = os.path.join(dir_path, item)\n",
    "        return os.path.getctime(item_path)\n",
    "    \n",
    "    # items meaning the files wihthin the directory path defined\n",
    "    items = os.listdir(dir_path)\n",
    "\n",
    "    if sort_by == 'date':\n",
    "        '''\n",
    "        in this case, user would like to sort directory path files by date\n",
    "        '''\n",
    "        print('Sorting files in path by creation date!')\n",
    "\n",
    "        # sorting our items from oldest to newest\n",
    "        sorted_items = sorted(items, key=get_creation_time)\n",
    "\n",
    "        return sorted_items\n",
    "\n",
    "    elif sort_by == 'name':\n",
    "        '''\n",
    "        in this case we would like to sort directory path files by name\n",
    "        '''\n",
    "        print('Sorting files in path by name!')\n",
    "\n",
    "    else: \n",
    "        print('Please redefine how you would like to sort!')\n"
   ]
  },
  {
   "cell_type": "code",
   "execution_count": 14,
   "metadata": {},
   "outputs": [
    {
     "name": "stdout",
     "output_type": "stream",
     "text": [
      "Sorting files in path by creation date!\n",
      "['spp-20231231.xbrl', 'spp-20231231 (1).xbrl', 'spp-20231231 (2).xbrl', 'wk-20231231.xml', 'spp-20231231 (3).xbrl']\n"
     ]
    }
   ],
   "source": [
    "# folder_path to test\n",
    "fpath_714 = 'ferc_714_xml_files_test'\n",
    "\n",
    "# attempt to check function\n",
    "test_case = sort_directory(sort_by='date', dir_path=fpath_714)\n",
    "print(test_case)\n"
   ]
  },
  {
   "cell_type": "code",
   "execution_count": 34,
   "metadata": {},
   "outputs": [
    {
     "name": "stdout",
     "output_type": "stream",
     "text": [
      "Southwest Power Pool, Inc._7/9/2024, 4:25 PM\n",
      "Southwest Power Pool, Inc._7/9/2024, 1:58 PM\n",
      "Southwest Power Pool, Inc._7/8/2024, 9:13 AM\n",
      "Salt River Project Agricultural Improvement and Power District_7/3/2024, 12:24 PM\n",
      "Southwest Power Pool, Inc._6/17/2024, 8:45 AM\n"
     ]
    }
   ],
   "source": [
    "# checking how to combines values of row data\n",
    "date_times = list(source_df_f5['Date/Time'])\n",
    "company_names = list(source_df_f5['Company'])\n",
    "\n",
    "for date in date_times:\n",
    "    # grabbing index value of 'date' to reference it in company names lis\n",
    "    print(f'{company_names[date_times.index(str(date))]}_{date}')\n",
    "\n",
    "\n"
   ]
  },
  {
   "cell_type": "code",
   "execution_count": null,
   "metadata": {},
   "outputs": [],
   "source": [
    "# okay, now we want to match the provided file list with the pandas df\n",
    "\n",
    "def rename_all_files(xml_df: str, sorted_dpath: str):\n",
    "\n",
    "    '''\n",
    "    now we will first iterate through xml df, grab rows of data to set up a unique file name\n",
    "    and then rename the file to that name\n",
    "    '''\n",
    "    "
   ]
  }
 ],
 "metadata": {
  "kernelspec": {
   "display_name": "Python 3",
   "language": "python",
   "name": "python3"
  },
  "language_info": {
   "codemirror_mode": {
    "name": "ipython",
    "version": 3
   },
   "file_extension": ".py",
   "mimetype": "text/x-python",
   "name": "python",
   "nbconvert_exporter": "python",
   "pygments_lexer": "ipython3",
   "version": "3.12.1"
  }
 },
 "nbformat": 4,
 "nbformat_minor": 2
}
