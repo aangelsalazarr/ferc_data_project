{
 "cells": [
  {
   "cell_type": "code",
   "execution_count": 11,
   "metadata": {},
   "outputs": [],
   "source": [
    "import pandas as pd\n",
    "import eform_query_processor as eqp\n",
    "import os"
   ]
  },
  {
   "cell_type": "code",
   "execution_count": 4,
   "metadata": {},
   "outputs": [
    {
     "name": "stdout",
     "output_type": "stream",
     "text": [
      "<class 'pandas.core.frame.DataFrame'>\n",
      "RangeIndex: 153 entries, 0 to 152\n",
      "Data columns (total 8 columns):\n",
      " #   Column     Non-Null Count  Dtype \n",
      "---  ------     --------------  ----- \n",
      " 0   CID        153 non-null    object\n",
      " 1   Company    153 non-null    object\n",
      " 2   Form       153 non-null    object\n",
      " 3   Year       153 non-null    int64 \n",
      " 4   Period     153 non-null    object\n",
      " 5   Date/Time  153 non-null    object\n",
      " 6   Status     153 non-null    object\n",
      " 7   Filing ID  153 non-null    int64 \n",
      "dtypes: int64(2), object(6)\n",
      "memory usage: 9.7+ KB\n"
     ]
    }
   ],
   "source": [
    "# loading in df containing files we want to grab\n",
    "source_df = pd.read_csv('process_check/eform_filtered_data_2024-09-14.csv')\n",
    "\n",
    "source_df.info()"
   ]
  },
  {
   "cell_type": "code",
   "execution_count": 9,
   "metadata": {},
   "outputs": [
    {
     "name": "stdout",
     "output_type": "stream",
     "text": [
      "<class 'pandas.core.frame.DataFrame'>\n",
      "RangeIndex: 5 entries, 0 to 4\n",
      "Data columns (total 8 columns):\n",
      " #   Column     Non-Null Count  Dtype \n",
      "---  ------     --------------  ----- \n",
      " 0   CID        5 non-null      object\n",
      " 1   Company    5 non-null      object\n",
      " 2   Form       5 non-null      object\n",
      " 3   Year       5 non-null      int64 \n",
      " 4   Period     5 non-null      object\n",
      " 5   Date/Time  5 non-null      object\n",
      " 6   Status     5 non-null      object\n",
      " 7   Filing ID  5 non-null      int64 \n",
      "dtypes: int64(2), object(6)\n",
      "memory usage: 452.0+ bytes\n",
      "None\n",
      "       CID                                            Company      Form  Year  \\\n",
      "0  C000771                         Southwest Power Pool, Inc.  Form 714  2023   \n",
      "1  C000771                         Southwest Power Pool, Inc.  Form 714  2023   \n",
      "2  C000771                         Southwest Power Pool, Inc.  Form 714  2023   \n",
      "3  C004245  Salt River Project Agricultural Improvement an...  Form 714  2023   \n",
      "4  C000771                         Southwest Power Pool, Inc.  Form 714  2023   \n",
      "\n",
      "  Period           Date/Time    Status  Filing ID  \n",
      "0     Q4   7/9/2024, 4:25 PM  Accepted     192310  \n",
      "1     Q4   7/9/2024, 1:58 PM  Accepted     192309  \n",
      "2     Q4   7/8/2024, 9:13 AM  Accepted     192306  \n",
      "3     Q4  7/3/2024, 12:24 PM  Accepted     192277  \n",
      "4     Q4  6/17/2024, 8:45 AM  Accepted     182167  \n"
     ]
    }
   ],
   "source": [
    "# checking the first 5\n",
    "source_df_f5 = source_df[:5]\n",
    "\n",
    "print(source_df_f5.info())\n",
    "\n",
    "print(source_df_f5)"
   ]
  },
  {
   "cell_type": "code",
   "execution_count": 8,
   "metadata": {},
   "outputs": [
    {
     "name": "stdout",
     "output_type": "stream",
     "text": [
      "[192310, 192309, 192306, 192277, 182167]\n"
     ]
    }
   ],
   "source": [
    "# create a list of filing id\n",
    "filing_ids = list(source_df_f5['Filing ID'])\n",
    "print(filing_ids)"
   ]
  },
  {
   "cell_type": "code",
   "execution_count": 10,
   "metadata": {},
   "outputs": [
    {
     "name": "stdout",
     "output_type": "stream",
     "text": [
      "Southwest Power Pool, Inc._ferc_714_Q42023_192310.xml\n",
      "Southwest Power Pool, Inc._ferc_714_Q42023_192309.xml\n",
      "Southwest Power Pool, Inc._ferc_714_Q42023_192306.xml\n",
      "Salt River Project Agricultural Improvement and Power District_ferc_714_Q42023_192277.xml\n",
      "Southwest Power Pool, Inc._ferc_714_Q42023_182167.xml\n"
     ]
    }
   ],
   "source": [
    "# return files\n",
    "eqp.return_eform_filings(filing_ids=filing_ids)"
   ]
  },
  {
   "cell_type": "code",
   "execution_count": 13,
   "metadata": {},
   "outputs": [],
   "source": [
    "# return directory \n",
    "def folder_info(folder_path):\n",
    "    '''\n",
    "    provide folder path and return info on directory being targeted\n",
    "    '''\n",
    "    folder_items = os.listdir(folder_path)\n",
    "    folder, items = sorted(folder_items,\n",
    "                           key=lambda item: os.path.getctime(os.path.join(folder_path, \n",
    "                                                                          item)))\n",
    "    \n",
    "    return items\n"
   ]
  },
  {
   "cell_type": "code",
   "execution_count": null,
   "metadata": {},
   "outputs": [],
   "source": [
    "# folder_path to test\n",
    "fpath_714 = 'ferc_714_xml_files'\n",
    "\n",
    "\n"
   ]
  }
 ],
 "metadata": {
  "kernelspec": {
   "display_name": "Python 3",
   "language": "python",
   "name": "python3"
  },
  "language_info": {
   "codemirror_mode": {
    "name": "ipython",
    "version": 3
   },
   "file_extension": ".py",
   "mimetype": "text/x-python",
   "name": "python",
   "nbconvert_exporter": "python",
   "pygments_lexer": "ipython3",
   "version": "3.12.1"
  }
 },
 "nbformat": 4,
 "nbformat_minor": 2
}
