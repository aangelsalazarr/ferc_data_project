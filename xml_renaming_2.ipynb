{
 "cells": [
  {
   "cell_type": "code",
   "execution_count": 8,
   "metadata": {},
   "outputs": [],
   "source": [
    "import pandas as pd\n",
    "import eform_query_processor as eqp\n",
    "import os"
   ]
  },
  {
   "cell_type": "code",
   "execution_count": 16,
   "metadata": {},
   "outputs": [],
   "source": [
    "# setting up the absolute savepath\n",
    "save_path = r'C:\\Users\\aange\\OneDrive\\Desktop\\Personal Python Projects\\ferc_data_project\\ferc_714_xml_files_test'\n",
    "\n",
    "save_path_new = r'C:\\Users\\AngelSalazar\\python_scratch\\ferc_data_project\\ferc_714_xml_files_test'"
   ]
  },
  {
   "cell_type": "code",
   "execution_count": 10,
   "metadata": {},
   "outputs": [
    {
     "name": "stdout",
     "output_type": "stream",
     "text": [
      "<class 'pandas.core.frame.DataFrame'>\n",
      "RangeIndex: 153 entries, 0 to 152\n",
      "Data columns (total 8 columns):\n",
      " #   Column     Non-Null Count  Dtype \n",
      "---  ------     --------------  ----- \n",
      " 0   CID        153 non-null    object\n",
      " 1   Company    153 non-null    object\n",
      " 2   Form       153 non-null    object\n",
      " 3   Year       153 non-null    int64 \n",
      " 4   Period     153 non-null    object\n",
      " 5   Date/Time  153 non-null    object\n",
      " 6   Status     153 non-null    object\n",
      " 7   Filing ID  153 non-null    int64 \n",
      "dtypes: int64(2), object(6)\n",
      "memory usage: 9.7+ KB\n"
     ]
    }
   ],
   "source": [
    "# loading in df containing files we want to grab\n",
    "source_df = pd.read_csv('process_check/eform_filtered_data_2024-09-14.csv')\n",
    "\n",
    "source_df.info()"
   ]
  },
  {
   "cell_type": "code",
   "execution_count": 11,
   "metadata": {},
   "outputs": [
    {
     "name": "stdout",
     "output_type": "stream",
     "text": [
      "<class 'pandas.core.frame.DataFrame'>\n",
      "RangeIndex: 5 entries, 0 to 4\n",
      "Data columns (total 8 columns):\n",
      " #   Column     Non-Null Count  Dtype \n",
      "---  ------     --------------  ----- \n",
      " 0   CID        5 non-null      object\n",
      " 1   Company    5 non-null      object\n",
      " 2   Form       5 non-null      object\n",
      " 3   Year       5 non-null      int64 \n",
      " 4   Period     5 non-null      object\n",
      " 5   Date/Time  5 non-null      object\n",
      " 6   Status     5 non-null      object\n",
      " 7   Filing ID  5 non-null      int64 \n",
      "dtypes: int64(2), object(6)\n",
      "memory usage: 452.0+ bytes\n",
      "None\n",
      "       CID                                            Company      Form  Year  \\\n",
      "0  C000771                         Southwest Power Pool, Inc.  Form 714  2023   \n",
      "1  C000771                         Southwest Power Pool, Inc.  Form 714  2023   \n",
      "2  C000771                         Southwest Power Pool, Inc.  Form 714  2023   \n",
      "3  C004245  Salt River Project Agricultural Improvement an...  Form 714  2023   \n",
      "4  C000771                         Southwest Power Pool, Inc.  Form 714  2023   \n",
      "\n",
      "  Period           Date/Time    Status  Filing ID  \n",
      "0     Q4   7/9/2024, 4:25 PM  Accepted     192310  \n",
      "1     Q4   7/9/2024, 1:58 PM  Accepted     192309  \n",
      "2     Q4   7/8/2024, 9:13 AM  Accepted     192306  \n",
      "3     Q4  7/3/2024, 12:24 PM  Accepted     192277  \n",
      "4     Q4  6/17/2024, 8:45 AM  Accepted     182167  \n"
     ]
    }
   ],
   "source": [
    "# checking the first 5\n",
    "source_df_f5 = source_df[:5]\n",
    "\n",
    "print(source_df_f5.info())\n",
    "\n",
    "print(source_df_f5)"
   ]
  },
  {
   "cell_type": "code",
   "execution_count": 12,
   "metadata": {},
   "outputs": [
    {
     "name": "stdout",
     "output_type": "stream",
     "text": [
      "[192310, 192309, 192306, 192277, 182167]\n"
     ]
    }
   ],
   "source": [
    "# create a list of filing id\n",
    "filing_ids = list(source_df_f5['Filing ID'])\n",
    "print(filing_ids)"
   ]
  },
  {
   "cell_type": "code",
   "execution_count": 39,
   "metadata": {},
   "outputs": [
    {
     "name": "stdout",
     "output_type": "stream",
     "text": [
      "Southwest Power Pool, Inc._ferc_714_Q42023_192310.xml\n",
      "Southwest Power Pool, Inc._ferc_714_Q42023_192309.xml\n",
      "Southwest Power Pool, Inc._ferc_714_Q42023_192306.xml\n",
      "Salt River Project Agricultural Improvement and Power District_ferc_714_Q42023_192277.xml\n",
      "Southwest Power Pool, Inc._ferc_714_Q42023_182167.xml\n"
     ]
    }
   ],
   "source": [
    "# return files\n",
    "eqp.return_eform_filings(filing_ids=filing_ids, \n",
    "                         save_path=save_path_new)"
   ]
  },
  {
   "cell_type": "markdown",
   "metadata": {},
   "source": [
    "Now we want to get a sense of how to sort our directories by time stamp\n",
    "so that we can return a list of file paths to match with out pre existing\n",
    "filing ids dataframe, allowing us to rename duplicate named files to assess\n",
    "which files may have been revises or simply reuploaded at a later time."
   ]
  },
  {
   "cell_type": "code",
   "execution_count": 18,
   "metadata": {},
   "outputs": [],
   "source": [
    "# function to sort directory provided by either name or time\n",
    "def sort_directory(sort_by: str, dir_path: str):\n",
    "\n",
    "    '''\n",
    "    In essence, first select whether you want to sort directory by name or by date created\n",
    "    '''\n",
    "\n",
    "    # purpose is to return the time the file was created\n",
    "    def get_creation_time(item):\n",
    "        item_path = os.path.join(dir_path, item)\n",
    "        return os.path.getctime(item_path)\n",
    "    \n",
    "    # items meaning the files wihthin the directory path defined\n",
    "    items = os.listdir(dir_path)\n",
    "\n",
    "    if sort_by == 'date':\n",
    "        '''\n",
    "        in this case, user would like to sort directory path files by date\n",
    "        '''\n",
    "        print('Sorting files in path by creation date!')\n",
    "\n",
    "        # sorting our items from oldest to newest\n",
    "        sorted_items = sorted(items, key=get_creation_time)\n",
    "\n",
    "        return sorted_items\n",
    "\n",
    "    elif sort_by == 'name':\n",
    "        '''\n",
    "        in this case we would like to sort directory path files by name\n",
    "        '''\n",
    "        print('Sorting files in path by name!')\n",
    "\n",
    "    else: \n",
    "        print('Please redefine how you would like to sort!')\n"
   ]
  },
  {
   "cell_type": "code",
   "execution_count": 19,
   "metadata": {},
   "outputs": [
    {
     "name": "stdout",
     "output_type": "stream",
     "text": [
      "Sorting files in path by creation date!\n",
      "['spp-20231231.xbrl', 'spp-20231231 (1).xbrl', 'spp-20231231 (2).xbrl', 'wk-20231231.xml', 'spp-20231231 (3).xbrl']\n"
     ]
    }
   ],
   "source": [
    "# folder_path to test\n",
    "fpath_714 = 'ferc_714_xml_files_test'\n",
    "\n",
    "# attempt to check function\n",
    "test_case = sort_directory(sort_by='date', dir_path=fpath_714)\n",
    "print(test_case)\n"
   ]
  },
  {
   "cell_type": "code",
   "execution_count": 20,
   "metadata": {},
   "outputs": [
    {
     "name": "stdout",
     "output_type": "stream",
     "text": [
      "['7_9_2024__4_25_PM']\n",
      "['Southwest_Power_Pool__Inc_']\n"
     ]
    }
   ],
   "source": [
    "# function to change date times to the following format so that we can use it to rename files\n",
    "# 12/9/2024, 4:25 PM --> 12_9_2024_4_25_PM \n",
    "# replace any [/], [,], [space] and [:] with an undescore\n",
    "\n",
    "def clean_subnames(subname_list: list):\n",
    "    '''\n",
    "    given a string of a date or cname convert any defined chars to underscores\n",
    "    '''\n",
    "    # edited subname list\n",
    "    new_subname_list = []\n",
    "\n",
    "    for subname in subname_list:\n",
    "        # first iteration checks for /\n",
    "        iteration_1 = subname.replace(\"/\", \"_\")\n",
    "        iteration_2 = iteration_1.replace(\",\", \"_\")\n",
    "        iteration_3 = iteration_2.replace(\" \", \"_\")\n",
    "        iteration_4 = iteration_3.replace(\".\", \"_\")\n",
    "        final_iteration = iteration_4.replace(\":\", \"_\")\n",
    "        new_subname_list.append(final_iteration)\n",
    "\n",
    "    return new_subname_list\n",
    "\n",
    "\n",
    "test_date_rename = clean_subnames(subname_list=[\"7/9/2024, 4:25 PM\"])\n",
    "cname_rename = clean_subnames(subname_list=['Southwest Power Pool, Inc.'])\n",
    "print(test_date_rename)\n",
    "print(cname_rename)"
   ]
  },
  {
   "cell_type": "code",
   "execution_count": 21,
   "metadata": {},
   "outputs": [],
   "source": [
    "# function aimed at setting up the renaming of files by grabbing info from df we used to grab files\n",
    "def rename_xml_base(dframe: object):\n",
    "    '''\n",
    "    in essence, go through df and set up framework for the renaming of xml files grabbed\n",
    "    '''\n",
    "    # a finalized list of the renamed xml names\n",
    "    renamed_xmls = []\n",
    "\n",
    "    # columns to combine and combined strings list\n",
    "    columns_to_combine = ['Form', 'Year', 'Company', 'Period', 'Date/Time', 'Filing ID']\n",
    "\n",
    "    # combined strings\n",
    "    for index, row in dframe.iterrows():\n",
    "\n",
    "        # for each row in our dataframe we are combining select col values\n",
    "        combined_string = ' '.join(row[columns_to_combine].astype(str))\n",
    "\n",
    "        # in essence now changing all sub text into underscores\n",
    "        final_string = clean_subnames(subname_list=list(combined_string))\n",
    "\n",
    "        # combined final string where we have converted all sub elements in our words\n",
    "        f_string = ''.join([str(item) for item in final_string])\n",
    "\n",
    "        # printing combined string to see what's up\n",
    "        renamed_xmls.append(f_string)\n",
    "    \n",
    "    return renamed_xmls\n",
    "\n"
   ]
  },
  {
   "cell_type": "code",
   "execution_count": 22,
   "metadata": {},
   "outputs": [
    {
     "name": "stdout",
     "output_type": "stream",
     "text": [
      "['Form_714_2023_Southwest_Power_Pool__Inc__Q4_7_9_2024__4_25_PM_192310', 'Form_714_2023_Southwest_Power_Pool__Inc__Q4_7_9_2024__1_58_PM_192309', 'Form_714_2023_Southwest_Power_Pool__Inc__Q4_7_8_2024__9_13_AM_192306', 'Form_714_2023_Salt_River_Project_Agricultural_Improvement_and_Power_District_Q4_7_3_2024__12_24_PM_192277', 'Form_714_2023_Southwest_Power_Pool__Inc__Q4_6_17_2024__8_45_AM_182167']\n"
     ]
    }
   ],
   "source": [
    "x = rename_xml_base(dframe=source_df_f5)\n",
    "print(x)\n"
   ]
  },
  {
   "cell_type": "markdown",
   "metadata": {},
   "source": [
    "okay, so now we have the tools to rename a file with a unique name that \n",
    "gives us information on who filed and exactly when, \n",
    "\n",
    "this makes it easy to parse through files that have been submitted multiple times\n",
    "by specific entities....\n",
    "\n",
    "\n",
    "now we want to work on \n",
    "(1) sorting the files within a directory\n",
    "(2) iterating throuhg this file directory and renaming files with the processed\n",
    "    file xml namees\n",
    "\n",
    "we want to make sure we are accurately naming so we don't incorrecly name any files"
   ]
  },
  {
   "cell_type": "code",
   "execution_count": 35,
   "metadata": {},
   "outputs": [],
   "source": [
    "# now, iterate through each file and rename it with what is in the list...\n",
    "def rename_all_files(xml_df: object, dir_path: str, sort_by = 'date'):\n",
    "\n",
    "    '''\n",
    "    now we will first iterate through xml df, grab rows of data to set up a unique file name\n",
    "    and then rename the file to that name\n",
    "\n",
    "    xml_df = df we used to pull the files from the ferc website\n",
    "    sort_by = set to 'date' default but can also be set to 'name'\n",
    "    dir_path = path of where the files downloaded is at....\n",
    "    '''\n",
    "    print('here is what we are working with: ')\n",
    "    print(f'inputted df: {xml_df}')\n",
    "    print(f'dir_path: {dir_path}')\n",
    "    print('\\n')\n",
    "\n",
    "    # first, we are defining the directory path where we will be making the changes\n",
    "    files_list = sort_directory(sort_by=sort_by, dir_path=dir_path)\n",
    "    print(f'files list: {files_list}')\n",
    "\n",
    "    # renaming xml files\n",
    "    temp_xmls = rename_xml_base(dframe=xml_df)\n",
    "    print(f'temp_xmls: {temp_xmls}')  \n",
    "\n",
    "    # testing to see if things are matched \n",
    "    for file in files_list:\n",
    "        print(f'{file}, {temp_xmls[files_list.index(str(file))]}')\n"
   ]
  },
  {
   "cell_type": "code",
   "execution_count": 37,
   "metadata": {},
   "outputs": [],
   "source": [
    "# PLACEHOLDER\n",
    "# now, iterate through each file and rename it with what is in the list...\n",
    "def rename_all_files(xml_df: object, dir_path: str, sort_by = 'date'):\n",
    "\n",
    "    '''\n",
    "    now we will first iterate through xml df, grab rows of data to set up a unique file name\n",
    "    and then rename the file to that name\n",
    "\n",
    "    xml_df = df we used to pull the files from the ferc website\n",
    "    sort_by = set to 'date' default but can also be set to 'name'\n",
    "    dir_path = path of where the files downloaded is at....\n",
    "    '''\n",
    "    print('here is what we are working with: ')\n",
    "    print(f'inputted df: {xml_df}')\n",
    "    print(f'dir_path: {dir_path}')\n",
    "    print('\\n')\n",
    "\n",
    "    # first, we are defining the directory path where we will be making the changes\n",
    "    files_list = sort_directory(sort_by=sort_by, dir_path=dir_path)\n",
    "    print(files_list)\n",
    "\n",
    "    # renaming xml files\n",
    "    temp_xmls = rename_xml_base(dframe=xml_df)\n",
    "    print(temp_xmls)  \n",
    "\n",
    "    # now we want to iterate through each file and rename it\n",
    "    for file in files_list: \n",
    "        # true file path\n",
    "        true_file_path = f'{dir_path}/{file}'\n",
    "        print(true_file_path)\n",
    "\n",
    "        # new name\n",
    "        print(f'new file name: {temp_xmls[file.index(str(file))]}')\n",
    "\n",
    "        # rename file by grabbing location of the 'file' element\n",
    "        new_fpath = os.rename(f'{true_file_path}', \n",
    "                              f'{dir_path}/{temp_xmls[files_list.index(str(file))]}.xml')\n",
    "\n",
    "\n"
   ]
  },
  {
   "cell_type": "markdown",
   "metadata": {},
   "source": [
    "it looks like we need to split things between \n",
    "1. folder path\n",
    "2. old file path\n",
    "3. new file path"
   ]
  },
  {
   "cell_type": "code",
   "execution_count": 40,
   "metadata": {},
   "outputs": [
    {
     "name": "stdout",
     "output_type": "stream",
     "text": [
      "here is what we are working with: \n",
      "inputted df:        CID                                            Company      Form  Year  \\\n",
      "0  C000771                         Southwest Power Pool, Inc.  Form 714  2023   \n",
      "1  C000771                         Southwest Power Pool, Inc.  Form 714  2023   \n",
      "2  C000771                         Southwest Power Pool, Inc.  Form 714  2023   \n",
      "3  C004245  Salt River Project Agricultural Improvement an...  Form 714  2023   \n",
      "4  C000771                         Southwest Power Pool, Inc.  Form 714  2023   \n",
      "\n",
      "  Period           Date/Time    Status  Filing ID  \n",
      "0     Q4   7/9/2024, 4:25 PM  Accepted     192310  \n",
      "1     Q4   7/9/2024, 1:58 PM  Accepted     192309  \n",
      "2     Q4   7/8/2024, 9:13 AM  Accepted     192306  \n",
      "3     Q4  7/3/2024, 12:24 PM  Accepted     192277  \n",
      "4     Q4  6/17/2024, 8:45 AM  Accepted     182167  \n",
      "dir_path: ferc_714_xml_files_test\n",
      "\n",
      "\n",
      "Sorting files in path by creation date!\n",
      "['spp-20231231.xbrl', 'spp-20231231 (1).xbrl', 'spp-20231231 (2).xbrl', 'wk-20231231.xml', 'spp-20231231 (3).xbrl']\n",
      "['Form_714_2023_Southwest_Power_Pool__Inc__Q4_7_9_2024__4_25_PM_192310', 'Form_714_2023_Southwest_Power_Pool__Inc__Q4_7_9_2024__1_58_PM_192309', 'Form_714_2023_Southwest_Power_Pool__Inc__Q4_7_8_2024__9_13_AM_192306', 'Form_714_2023_Salt_River_Project_Agricultural_Improvement_and_Power_District_Q4_7_3_2024__12_24_PM_192277', 'Form_714_2023_Southwest_Power_Pool__Inc__Q4_6_17_2024__8_45_AM_182167']\n",
      "ferc_714_xml_files_test/spp-20231231.xbrl\n",
      "new file name: Form_714_2023_Southwest_Power_Pool__Inc__Q4_7_9_2024__4_25_PM_192310\n",
      "ferc_714_xml_files_test/spp-20231231 (1).xbrl\n",
      "new file name: Form_714_2023_Southwest_Power_Pool__Inc__Q4_7_9_2024__4_25_PM_192310\n",
      "ferc_714_xml_files_test/spp-20231231 (2).xbrl\n",
      "new file name: Form_714_2023_Southwest_Power_Pool__Inc__Q4_7_9_2024__4_25_PM_192310\n",
      "ferc_714_xml_files_test/wk-20231231.xml\n",
      "new file name: Form_714_2023_Southwest_Power_Pool__Inc__Q4_7_9_2024__4_25_PM_192310\n",
      "ferc_714_xml_files_test/spp-20231231 (3).xbrl\n",
      "new file name: Form_714_2023_Southwest_Power_Pool__Inc__Q4_7_9_2024__4_25_PM_192310\n"
     ]
    }
   ],
   "source": [
    "# folder_path to test\n",
    "folder_path = 'ferc_714_xml_files_test'\n",
    "\n",
    "rename_all_files(xml_df=source_df_f5, dir_path=fpath_714)\n"
   ]
  }
 ],
 "metadata": {
  "kernelspec": {
   "display_name": "Python 3",
   "language": "python",
   "name": "python3"
  },
  "language_info": {
   "codemirror_mode": {
    "name": "ipython",
    "version": 3
   },
   "file_extension": ".py",
   "mimetype": "text/x-python",
   "name": "python",
   "nbconvert_exporter": "python",
   "pygments_lexer": "ipython3",
   "version": "3.12.0"
  }
 },
 "nbformat": 4,
 "nbformat_minor": 2
}
