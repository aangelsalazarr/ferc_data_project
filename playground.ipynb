{
 "cells": [
  {
   "cell_type": "code",
   "execution_count": 1,
   "metadata": {},
   "outputs": [],
   "source": [
    "import pandas as pd"
   ]
  },
  {
   "cell_type": "code",
   "execution_count": 3,
   "metadata": {},
   "outputs": [
    {
     "name": "stdout",
     "output_type": "stream",
     "text": [
      "<class 'pandas.core.frame.DataFrame'>\n",
      "RangeIndex: 407 entries, 0 to 406\n",
      "Data columns (total 8 columns):\n",
      " #   Column     Non-Null Count  Dtype \n",
      "---  ------     --------------  ----- \n",
      " 0   CID        407 non-null    object\n",
      " 1   Company    407 non-null    object\n",
      " 2   Form       407 non-null    object\n",
      " 3   Year       407 non-null    int64 \n",
      " 4   Period     407 non-null    object\n",
      " 5   Date/Time  407 non-null    object\n",
      " 6   Status     407 non-null    object\n",
      " 7   Filing ID  407 non-null    int64 \n",
      "dtypes: int64(2), object(6)\n",
      "memory usage: 25.6+ KB\n"
     ]
    }
   ],
   "source": [
    "# importing the form we are looking to test\n",
    "test_df = pd.read_csv('process_check/eform_form_1_2024-11-27_2023.csv')\n",
    "test_df.info()"
   ]
  },
  {
   "cell_type": "code",
   "execution_count": 4,
   "metadata": {},
   "outputs": [
    {
     "name": "stdout",
     "output_type": "stream",
     "text": [
      "<class 'pandas.core.frame.DataFrame'>\n",
      "Index: 251 entries, 0 to 406\n",
      "Data columns (total 8 columns):\n",
      " #   Column     Non-Null Count  Dtype \n",
      "---  ------     --------------  ----- \n",
      " 0   CID        251 non-null    object\n",
      " 1   Company    251 non-null    object\n",
      " 2   Form       251 non-null    object\n",
      " 3   Year       251 non-null    int64 \n",
      " 4   Period     251 non-null    object\n",
      " 5   Date/Time  251 non-null    object\n",
      " 6   Status     251 non-null    object\n",
      " 7   Filing ID  251 non-null    int64 \n",
      "dtypes: int64(2), object(6)\n",
      "memory usage: 17.6+ KB\n"
     ]
    }
   ],
   "source": [
    "# filtering out for any non \"Form 1\"\n",
    "filtered_df = test_df[test_df['Form']=='Form 1']\n",
    "filtered_df.info()"
   ]
  }
 ],
 "metadata": {
  "kernelspec": {
   "display_name": "Python 3",
   "language": "python",
   "name": "python3"
  },
  "language_info": {
   "codemirror_mode": {
    "name": "ipython",
    "version": 3
   },
   "file_extension": ".py",
   "mimetype": "text/x-python",
   "name": "python",
   "nbconvert_exporter": "python",
   "pygments_lexer": "ipython3",
   "version": "3.12.1"
  }
 },
 "nbformat": 4,
 "nbformat_minor": 2
}
