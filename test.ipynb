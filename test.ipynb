{
 "cells": [
  {
   "cell_type": "code",
   "execution_count": 1,
   "id": "b9bd4022",
   "metadata": {},
   "outputs": [],
   "source": [
    "import os\n",
    "import pandas as pd\n",
    "import seaborn as sns\n",
    "import matplotlib.pyplot as plt"
   ]
  },
  {
   "cell_type": "code",
   "execution_count": 2,
   "id": "d7d10296",
   "metadata": {},
   "outputs": [],
   "source": [
    "def return_dir_files(dir_path: str):\n",
    "    '''\n",
    "    Given a directory, return file names contained within\n",
    "    '''\n",
    "    fnames = os.listdir(dir_path)\n",
    "\n",
    "    return fnames"
   ]
  },
  {
   "cell_type": "code",
   "execution_count": null,
   "id": "2834ed40",
   "metadata": {},
   "outputs": [
    {
     "name": "stdout",
     "output_type": "stream",
     "text": [
      "['Form_714_2023_City_of_Homestead_Q4_5_21_2024__8_08_AM_170312.xml', 'Form_714_2023_New_York_State_Electric_&_Gas_Corporation_Q4_5_15_2024__7_12_AM_170140.xml', 'Form_714_2023_Basin_Electric_Power_Cooperative_Q4_5_21_2024__4_13_PM_170367.xml', 'Form_714_2023_Southwest_Power_Pool__Inc__Q4_5_14_2024__4_00_PM_170132.xml', 'Form_714_2023_Square_Butte_Electric_Cooperative_Q4_5_23_2024__4_28_PM_170745.xml', 'Form_714_2023_Tampa_Electric_Company_Q4_5_22_2024__6_47_AM_170377.xml', 'Form_714_2023_Southern_Power_Company_Q4_5_29_2024__8_43_AM_181031.xml', 'Form_714_2023_Oklahoma_Municipal_Power_Authority_Q4_4_24_2024__10_35_AM_169794.xml', 'Form_714_2023_Public_Service_Company_of_Colorado_Q4_6_7_2024__5_30_PM_181934.xml', 'Form_714_2023_Salt_River_Project_Agricultural_Improvement_and_Power_District_Q4_5_29_2024__1_25_PM_181090.xml', 'Form_714_2023_City_of_Homestead_Q4_5_17_2024__10_30_AM_170214.xml', 'Form_714_2023_Orlando_Utilities_Commission_Q4_6_3_2024__8_30_AM_181540.xml', 'Form_714_2023_Wolverine_Power_Supply_Cooperative__Inc__Q4_5_20_2024__11_36_AM_170265.xml', 'Form_714_2023_Modesto_Irrigation_District_Q4_5_9_2024__5_48_PM_170046.xml', 'Form_714_2023_Tri-State_Generation_and_Transmission_Association__Inc__Q4_5_16_2024__7_10_PM_170208.xml', 'Form_714_2023_Duke_Energy_Florida__LLC_Q4_5_13_2024__2_33_PM_170079.xml', 'Form_714_2023_Southwest_Power_Pool__Inc__Q4_7_8_2024__9_13_AM_192306.xml', 'Form_714_2023_PacifiCorp_-_East_BAA_Q4_5_31_2024__2_34_PM_181477.xml', 'Form_714_2023_Colorado_Springs_Utilities_Q4_6_3_2024__4_13_PM_181590.xml', 'Form_714_2023_Turlock_Irrigation_District_Q4_5_31_2024__11_11_AM_181434.xml', 'Form_714_2023_Northeast_Texas_Electric_Cooperative__Inc__Q4_5_28_2024__12_10_PM_180958.xml', 'Form_714_2023_NorthWestern_Corporation_Q4_5_29_2024__11_05_AM_181057.xml', 'Form_714_2023_Memphis_Light__Gas_and_Water_Division_Q4_3_19_2024__10_32_AM_147324.xml', 'Form_714_2023_California_Independent_System_Operator_Corporation_Q4_5_29_2024__5_52_PM_181179.xml', 'Form_714_2023_PacifiCorp_Q4_5_31_2024__3_59_PM_181486.xml', 'Form_714_2023_Southern_Company_Services__Inc__(as_Agent)_Q4_5_31_2024__7_47_AM_181394.xml', 'Form_714_2023_Cube_Hydro_Carolinas_Yadkin_Q4_5_29_2024__11_47_AM_181065.xml', 'Form_714_2023_Electric_Reliability_Council_of_Texas__Inc__Q4_5_28_2024__2_08_PM_180996.xml', 'Form_714_2023_Arlington_Valley_WECC_AZ_Q4_5_30_2024__1_20_PM_181282.xml', 'Form_714_2023_Southern_Company_Services__Inc__(as_Agent)_Q4_5_31_2024__8_41_AM_181401.xml', 'Form_714_2023_Gainesville_Regional_Utilities_Q4_5_31_2024__8_17_AM_181399.xml', 'Form_714_2023_BHE_Wind_Watch__LLC_Q4_5_30_2024__4_20_PM_181340.xml', 'Form_714_2023_Duke_Energy_Progress__LLC_Q4_5_20_2024__2_54_PM_170289.xml', 'Form_714_2023_Minnkota_Power_Cooperative__Inc__Q4_5_23_2024__4_26_PM_170743.xml', 'Form_714_2023_New_York_Independent_System_Operator__Inc__Q4_5_30_2024__2_36_PM_181309.xml', 'Form_714_2023_BHE_Power_Watch__LLC_Q4_6_4_2024__12_31_PM_181638.xml', 'Form_714_2023_Tucson_Electric_Power_Company_Q4_5_28_2024__12_49_PM_180972.xml', 'Form_714_2023_Santee_Cooper_Q4_5_30_2024__1_52_PM_181294.xml', 'Form_714_2023_Southwest_Power_Pool__Inc__Q4_7_9_2024__1_58_PM_192309.xml', 'Form_714_2023_PowerSouth_Energy_Cooperative_Q4_5_29_2024__2_58_PM_181109.xml', 'Form_714_2023_Chugach_Electric_Association_Inc__Q4_6_13_2024__2_36_PM_182066.xml', 'Form_714_2023_Indiana_Municipal_Power_Agency_Q4_2_23_2024__3_30_PM_147056.xml', 'Form_714_2023_BHE_Power_Watch__LLC_Q4_5_30_2024__4_19_PM_181339.xml', 'Form_714_2023_Seattle_City_Light_Q4_6_6_2024__3_58_PM_181824.xml', 'Form_714_2023_Electric_Reliability_Council_of_Texas__Inc__Q4_6_7_2024__10_26_AM_181864.xml', 'Form_714_2023_Georgia_Power_Company_Q4_5_28_2024__9_45_AM_180929.xml', 'Form_714_2023_City_of_St__Cloud_Q4_6_1_2024__11_33_AM_181517.xml', 'Form_714_2023_Portland_General_Electric_Company_Q4_5_1_2024__5_24_PM_169957.xml', 'Form_714_2023_Indiana_Municipal_Power_Agency_Q4_4_25_2024__12_59_PM_169810.xml', 'Form_714_2023_Black_Hills_Corporation_Q4_4_30_2024__4_05_PM_169912.xml', 'Form_714_2023_City_of_Burbank_Q4_5_29_2024__11_27_PM_181199.xml', 'Form_714_2023_Sierra_Pacific_Power_Company_Q4_5_24_2024__2_19_PM_180888.xml', 'Form_714_2023_Arizona_Public_Service_Company_Q4_5_23_2024__2_20_PM_170698.xml', 'Form_714_2023_Municipal_Electric_Authority_of_Georgia_Q4_6_4_2024__1_14_PM_181649.xml', 'Form_714_2023_Tucson_Electric_Power_Company_Q4_5_28_2024__9_37_AM_180923.xml', 'Form_714_2023_City_of_Tallahassee_Utilities_Q4_5_31_2024__10_28_AM_181425.xml', 'Form_714_2023_City_of_St__Cloud_Q4_6_3_2024__1_42_PM_181568.xml', 'Form_714_2023_Avangrid_Renewables__LLC_Q4_5_30_2024__2_22_PM_181305.xml', 'Form_714_2023_Southwestern_Power_Administration_Q4_5_30_2024__5_45_PM_181378.xml', 'Form_714_2023_Western_Area_Power_Administration_-_Lower_Colorado_Q4_5_20_2024__1_06_AM_170247.xml', 'Form_714_2023_Public_Service_Company_of_New_Mexico_Q4_5_28_2024__4_52_PM_181018.xml', 'Form_714_2023_PJM_Interconnection__L_L_C__Q4_5_31_2024__11_13_AM_181436.xml', 'Form_714_2023_Black_Hills_Corporation_Q4_4_23_2024__4_04_PM_169777.xml', 'Form_714_2023_Southwest_Power_Pool__Inc__Q4_5_30_2024__1_42_PM_181288.xml', 'Form_714_2023_ALABAMA_POWER_COMPANY_Q4_5_28_2024__9_43_AM_180926.xml', 'Form_714_2023_Southwest_Power_Pool__Inc__Q4_6_10_2024__2_47_PM_181976.xml', 'Form_714_2023_ALABAMA_POWER_COMPANY_Q4_5_29_2024__8_35_AM_181029.xml', 'Form_714_2023_Municipal_Electric_Authority_of_Georgia_Q4_6_4_2024__11_39_AM_181636.xml', 'Form_714_2023_El_Paso_Electric_Company_Q4_4_23_2024__10_46_AM_169760.xml', 'Form_714_2023_Buckeye_Power__Inc__Q4_5_30_2024__9_04_AM_181211.xml', 'Form_714_2023_Central_Electric_Power_Cooperative_Inc__Q4_5_14_2024__3_39_PM_170129.xml', 'Form_714_2023_Sacramento_Municipal_Utility_District_Q4_5_15_2024__11_47_AM_170154.xml', 'Form_714_2023_Chattanooga_Electric_Power_Board_Q4_6_6_2024__1_44_PM_181790.xml', 'Form_714_2023_JEA_Q4_5_28_2024__5_05_PM_181021.xml', 'Form_714_2023_Avista_Corporation_Q4_5_31_2024__1_47_PM_181466.xml', 'Form_714_2023_City_of_Tacoma__Dept__of_Public_Utilities_Q4_5_29_2024__4_19_PM_181160.xml', 'Form_714_2023_Mississippi_Power_Company_Q4_5_29_2024__11_04_AM_181056.xml', 'Form_714_2023_XBRL_Test_CID-Ez-XBRL_Solutions_Inc_Q4_5_31_2024__7_20_AM_181392.xml', 'Form_714_2023_Nevada_Power_Company_Q4_5_24_2024__1_54_PM_180884.xml', 'Form_714_2023_Puget_Sound_Energy__Inc__Q4_5_30_2024__12_33_PM_181267.xml', 'Form_714_2023_Orlando_Utilities_Commission_Q4_6_1_2024__10_51_PM_181532.xml', 'Form_714_2023_Georgia_Power_Company_Q4_5_29_2024__8_41_AM_181030.xml', 'Form_714_2023_Southwest_Power_Pool__Inc__Q4_7_9_2024__4_25_PM_192310.xml', 'Form_714_2023_Memphis_Light__Gas_and_Water_Division_Q4_4_19_2024__4_01_PM_169702.xml', 'Form_714_2023_Florida_Municipal_Power_Pool_Q4_5_30_2024__6_35_PM_181386.xml', 'Form_714_2023_San_Diego_Gas_&_Electric_Q4_5_23_2024__5_10_PM_170758.xml', 'Form_714_2023_Wabash_Valley_Power_Association__Inc__Q4_6_10_2024__2_25_PM_181968.xml', 'Form_714_2023_PacifiCorp_-_West_BAA_Q4_5_31_2024__3_35_PM_181484.xml', 'Form_714_2023_Hawaiian_Electric_Company_Q4_5_21_2024__1_51_PM_170346.xml', 'Form_714_2023_Bonneville_Power_Administration_Q4_5_23_2024__2_10_PM_170692.xml', 'Form_714_2023_Public_Utility_District_No__2_of_Grant_County_Q4_5_9_2024__5_22_PM_170044.xml', 'Form_714_2023_Western_Area_Power_Administration_-_Rocky_Mountain_Region_Q4_5_28_2024__4_53_PM_181019.xml', 'Form_714_2023_Salt_River_Project_Agricultural_Improvement_and_Power_District_Q4_5_30_2024__4_52_PM_181354.xml', 'Form_714_2023_Lakeland_Electric_Q4_5_9_2024__11_19_AM_170020.xml', 'Form_714_2023_City_of_Los_Angeles_Department_of_Water_and_Power_Q4_5_31_2024__6_56_PM_181512.xml', 'Form_714_2023_Public_Service_Company_of_Colorado_Q4_5_29_2024__1_17_PM_181086.xml', 'Form_714_2023_Oglethorpe_Power_Corporation_(An_Electric_Membership_Corporation)_Q4_4_16_2024__2_54_PM_168752.xml', 'Form_714_2023_Eugene_Water_and_Electric_Board_Q4_5_9_2024__4_27_PM_170042.xml', 'Form_714_2023_Eugene_Water_and_Electric_Board_Q4_5_10_2024__2_33_PM_170060.xml', 'Form_714_2023_Rochester_Gas_and_Electric_Corporation_Q4_5_14_2024__1_41_PM_170111.xml', 'Form_714_2023_Florida_Power_&_Light_Company_Q4_6_3_2024__11_06_AM_181554.xml', 'Form_714_2023_Florida_Power_&_Light_Company_Q4_5_30_2024__10_58_AM_181233.xml', 'Form_714_2023_Duke_Energy_Carolinas__LLC_Q4_5_9_2024__5_46_PM_170045.xml', 'Form_714_2023_Public_Utility_District_No_1_of_Chelan_County_Q4_4_30_2024__1_27_PM_169906.xml', 'Form_714_2023_City_of_St__Cloud_Q4_5_31_2024__8_29_AM_181400.xml', 'Form_714_2023_Dominion_Energy_South_Carolina__Inc__Q4_4_29_2024__3_26_PM_169875.xml', 'Form_714_2023_PUD_No__1_of_Douglas_County_Q4_4_18_2024__5_16_PM_169489.xml', 'Form_714_2023_Western_Area_Power_Administration_-_Upper_Great_Plains_Region_Q4_5_30_2024__4_45_PM_181350.xml', 'Form_714_2023_Metropolitan_Water_District_of_Southern_California_Q4_5_28_2024__11_59_AM_180952.xml', 'Form_714_2023_Avista_Corporation_Q4_5_30_2024__5_51_PM_181380.xml', 'Form_714_2023_Louisville_Gas_and_Electric_Company_and_Kentucky_Utilities_Company_Q4_5_24_2024__12_11_PM_180857.xml', 'Form_714_2023_Dominion_Energy_South_Carolina__Inc__Q4_4_29_2024__2_35_PM_169871.xml', 'Form_714_2023_Duke_Energy_Carolinas__LLC_Q4_5_20_2024__2_33_PM_170284.xml', 'Form_714_2023_Golden_Spread_Electric_Cooperative__Inc__Q4_5_20_2024__6_04_PM_170307.xml', 'Form_714_2023_Western_Area_Power_Administration_-_Upper_Great_Plains_Region_Q4_6_3_2024__12_02_PM_181559.xml', 'Form_714_2023_New_Harquahala_BA_Q4_5_30_2024__5_29_PM_181370.xml', 'Form_714_2023_East_Texas_Electric_Cooperative__Inc__Q4_5_22_2024__5_32_PM_170545.xml', 'Form_714_2023_WPPI_Energy_Q4_5_9_2024__11_56_AM_170022.xml', 'Form_714_2023_Platte_River_Power_Authority_Q4_5_14_2024__10_49_AM_170101.xml', 'Form_714_2023_JEA_Q4_5_23_2024__1_36_PM_170673.xml', 'Form_714_2023_BHE_Wind_Watch__LLC_Q4_6_4_2024__12_32_PM_181639.xml', 'Form_714_2023_Rochester_Gas_and_Electric_Corporation_Q4_5_14_2024__12_49_PM_170104.xml', 'Form_714_2023_New_York_State_Electric_&_Gas_Corporation_Q4_5_14_2024__1_41_PM_170110.xml', 'Form_714_2023_Public_Utility_District_No_1_of_Chelan_County_Q4_3_28_2024__11_50_AM_147627.xml', 'Form_714_2023_Seminole_Electric_Cooperative__Inc_Q4_5_24_2024__9_30_AM_180799.xml', 'Form_714_2023_Florida_Municipal_Power_Pool_Q4_6_3_2024__1_49_PM_181569.xml', 'Form_714_2023_Sacramento_Municipal_Utility_District_Q4_5_15_2024__7_42_PM_170178.xml', 'Form_714_2023_City_of_St__Cloud_Q4_5_31_2024__3_10_PM_181483.xml', 'Form_714_2023_Santee_Cooper_Q4_5_20_2024__8_31_AM_170253.xml', 'Form_714_2023_Salt_River_Project_Agricultural_Improvement_and_Power_District_Q4_7_3_2024__12_24_PM_192277.xml', 'Form_714_2023_Arizona_Electric_Power_Cooperative__Inc__Q4_5_20_2024__2_50_PM_170287.xml', 'Form_714_2023_Florida_Municipal_Power_Agency_Q4_4_29_2024__9_43_AM_169863.xml', 'Form_714_2023_Western_Area_Power_Administration_-_Rocky_Mountain_Region_Q4_5_30_2024__5_40_PM_181375.xml', 'Form_714_2023_Orlando_Utilities_Commission_Q4_6_3_2024__12_31_PM_181564.xml', 'Form_714_2023_New_York_Independent_System_Operator__Inc__Q4_5_24_2024__11_13_AM_180840.xml', 'Form_714_2023_Griffith_Energy_(GRIF)_Q4_5_31_2024__6_57_PM_181513.xml', 'Form_714_2023_Duke_Energy_Progress__LLC_Q4_5_9_2024__1_16_PM_170028.xml', 'Form_714_2023_City_of_St__Cloud_Q4_5_31_2024__6_24_PM_181508.xml', 'Form_714_2023_Florida_Power_&_Light_Company_Q4_5_30_2024__3_16_PM_181319.xml', 'Form_714_2023_Tennessee_Valley_Authority_Q4_5_16_2024__2_18_PM_170199.xml', 'Form_714_2023_Platte_River_Power_Authority_Q4_5_13_2024__4_14_PM_170083.xml', 'Form_714_2023_Memphis_Light__Gas_and_Water_Division_Q4_4_19_2024__12_00_PM_169658.xml', 'Form_714_2023_Midcontinent_Independent_System_Operator__Inc__Q4_6_3_2024__2_23_PM_181574.xml', 'Form_714_2023_Idaho_Power_Company_Q4_5_29_2024__2_10_PM_181098.xml', 'Form_714_2023_Orlando_Utilities_Commission_Q4_5_31_2024__8_59_AM_181413.xml', 'Form_714_2023_Imperial_Irrigation_District_Q4_6_1_2024__7_27_PM_181531.xml', 'Form_714_2023_Gridforce_Energy_Management__LLC_Q4_5_31_2024__6_54_PM_181511.xml', 'Form_714_2023_Southwest_Power_Pool__Inc__Q4_6_10_2024__3_53_PM_181984.xml', 'Form_714_2023_Mississippi_Power_Company_Q4_5_28_2024__9_44_AM_180927.xml', 'Form_714_2023_ISO_New_England_Inc__Q4_5_31_2024__2_30_PM_181475.xml', 'Form_714_2023_Associated_Electric_Cooperative__Inc__Q4_5_31_2024__11_00_AM_181431.xml', 'Form_714_2023_Southwest_Power_Pool__Inc__Q4_6_17_2024__8_45_AM_182167.xml', 'Form_714_2023_Minnesota_Municipal_Power_Agency_Q4_6_3_2024__11_08_AM_181555.xml']\n"
     ]
    }
   ],
   "source": [
    "test=return_dir_files(dir_path='eforms/form_714_2023')\n",
    "print(test)"
   ]
  },
  {
   "cell_type": "code",
   "execution_count": 4,
   "id": "4d9ba21e",
   "metadata": {},
   "outputs": [],
   "source": [
    "def process_xml_data(xml_fpath: str):\n",
    "    '''\n",
    "    purpose is to return a processed df when provided with topics to grab\n",
    "    '''\n",
    "    df = pd.read_xml(xml_fpath)\n",
    "    #print(df.info())\n",
    "\n",
    "    # preset list of data columns we will be grabbing\n",
    "    topics ={\n",
    "        \"forecast_year\": 'PlanningAreaHourlyDemandAndForecastYear',\n",
    "        \"ann_net_load\": 'PlanningAreaHourlyDemandAndForecastForecastOfAnnualNetEnergyForLoad',\n",
    "        \"summer_forecast\": 'PlanningAreaHourlyDemandAndForecastSummerForecast',\n",
    "        \"winter_forecast\": 'PlanningAreaHourlyDemandAndForecastWinterForecast',\n",
    "        #\"respondent_id\": \"RespondentIdentificationCode\",\n",
    "       # \"respondent_name\": 'RespondentLegalName',\n",
    "    }\n",
    "\n",
    "    # refined topics list\n",
    "    topics_dict = pd.DataFrame()\n",
    "\n",
    "    # iterate through list and grab data while converting into float\n",
    "    for key,value in topics.items():\n",
    "        temp_df = df[f'{value}'].dropna()\n",
    "\n",
    "        # this is a list of values we want to convert to integers\n",
    "        convert_to_ints = ['ann_net_load', 'summer_forecast', 'winter_forecast']\n",
    "        convert_to_str = ['respondent_name', 'respondent_id']\n",
    "\n",
    "        if key in convert_to_ints:\n",
    "            temp_list = list(temp_df.astype(int))\n",
    "\n",
    "        elif key in convert_to_str:\n",
    "            temp_list = list(temp_df.astype(str))\n",
    "\n",
    "        else:\n",
    "            temp_list = list(pd.to_datetime(temp_df, format=\"%Y\").dt.year)\n",
    "\n",
    "\n",
    "        if temp_list[-1] <= temp_list[0]:\n",
    "            sorted_temp_list = sorted(temp_list)\n",
    "            print(f\"had to sort: {xml_fpath}! please check data (=\")\n",
    "            topics_dict[f'{key}'] = sorted_temp_list\n",
    "        \n",
    "        else:\n",
    "            topics_dict[f'{key}'] = temp_list\n",
    "\n",
    "    # no we are adding the name of the entity name under a new column\n",
    "    topics_dict['respondent_name'] = list(df['RespondentLegalName'].dropna())[0]\n",
    "\n",
    "    # also adding report year and period and identification code\n",
    "    topics_dict['report_year'] = list(df['ReportYear'].dropna())[0]\n",
    "    topics_dict['report_period'] = list(df['ReportPeriod'].dropna())[0]\n",
    "    topics_dict['entity_id'] = list(df['CompanyIdentifier'].dropna())[0]\n",
    "    topics_dict['entity_id'] = topics_dict['entity_id'].astype(str)\n",
    "\n",
    "    return topics_dict"
   ]
  },
  {
   "cell_type": "code",
   "execution_count": 5,
   "id": "ebe208d0",
   "metadata": {},
   "outputs": [],
   "source": [
    "# function to combine dataframes\n",
    "def combine_714_dfs(xml_fpaths: list):\n",
    "\n",
    "    # master df where we will aggregate all xml dfs\n",
    "    master_df = pd.DataFrame()\n",
    "\n",
    "    for xml_fpath in xml_fpaths:\n",
    "        temp_df = process_xml_data(xml_fpath=xml_fpath)\n",
    "        master_df = pd.concat([master_df, temp_df])\n",
    "\n",
    "    return master_df"
   ]
  },
  {
   "cell_type": "markdown",
   "id": "eb622bcf",
   "metadata": {},
   "source": [
    "Now let's test whether the functions we created work!"
   ]
  },
  {
   "cell_type": "code",
   "execution_count": 7,
   "id": "d3953682",
   "metadata": {},
   "outputs": [
    {
     "name": "stderr",
     "output_type": "stream",
     "text": [
      "/var/folders/lv/_2pd__3j4tl2w9g39c7ybbs00000gn/T/ipykernel_97486/3559392680.py:5: FutureWarning: Passing literal xml to 'read_xml' is deprecated and will be removed in a future version. To read from a literal string, wrap it in a 'StringIO' object.\n",
      "  df = pd.read_xml(xml_fpath)\n"
     ]
    },
    {
     "ename": "ImportError",
     "evalue": "lxml not found, please install or use the etree parser.",
     "output_type": "error",
     "traceback": [
      "\u001b[31m---------------------------------------------------------------------------\u001b[39m",
      "\u001b[31mImportError\u001b[39m                               Traceback (most recent call last)",
      "\u001b[36mCell\u001b[39m\u001b[36m \u001b[39m\u001b[32mIn[7]\u001b[39m\u001b[32m, line 2\u001b[39m\n\u001b[32m      1\u001b[39m \u001b[38;5;66;03m# testing to see what we can pull\u001b[39;00m\n\u001b[32m----> \u001b[39m\u001b[32m2\u001b[39m x = \u001b[43mprocess_xml_data\u001b[49m\u001b[43m(\u001b[49m\u001b[43mxml_fpath\u001b[49m\u001b[43m=\u001b[49m\u001b[33;43m'\u001b[39;49m\u001b[33;43mform_714_2023/Form_714_2023_ALABAMA_POWER_COMPANY_Q4_5_28_2024__9_43_AM_180926.xml\u001b[39;49m\u001b[33;43m'\u001b[39;49m\u001b[43m)\u001b[49m\n\u001b[32m      3\u001b[39m \u001b[38;5;28mprint\u001b[39m(x)\n",
      "\u001b[36mCell\u001b[39m\u001b[36m \u001b[39m\u001b[32mIn[4]\u001b[39m\u001b[32m, line 5\u001b[39m, in \u001b[36mprocess_xml_data\u001b[39m\u001b[34m(xml_fpath)\u001b[39m\n\u001b[32m      1\u001b[39m \u001b[38;5;28;01mdef\u001b[39;00m\u001b[38;5;250m \u001b[39m\u001b[34mprocess_xml_data\u001b[39m(xml_fpath: \u001b[38;5;28mstr\u001b[39m):\n\u001b[32m      2\u001b[39m \u001b[38;5;250m    \u001b[39m\u001b[33;03m'''\u001b[39;00m\n\u001b[32m      3\u001b[39m \u001b[33;03m    purpose is to return a processed df when provided with topics to grab\u001b[39;00m\n\u001b[32m      4\u001b[39m \u001b[33;03m    '''\u001b[39;00m\n\u001b[32m----> \u001b[39m\u001b[32m5\u001b[39m     df = \u001b[43mpd\u001b[49m\u001b[43m.\u001b[49m\u001b[43mread_xml\u001b[49m\u001b[43m(\u001b[49m\u001b[43mxml_fpath\u001b[49m\u001b[43m)\u001b[49m\n\u001b[32m      6\u001b[39m     \u001b[38;5;66;03m#print(df.info())\u001b[39;00m\n\u001b[32m      7\u001b[39m \n\u001b[32m      8\u001b[39m     \u001b[38;5;66;03m# preset list of data columns we will be grabbing\u001b[39;00m\n\u001b[32m      9\u001b[39m     topics ={\n\u001b[32m     10\u001b[39m         \u001b[33m\"\u001b[39m\u001b[33mforecast_year\u001b[39m\u001b[33m\"\u001b[39m: \u001b[33m'\u001b[39m\u001b[33mPlanningAreaHourlyDemandAndForecastYear\u001b[39m\u001b[33m'\u001b[39m,\n\u001b[32m     11\u001b[39m         \u001b[33m\"\u001b[39m\u001b[33mann_net_load\u001b[39m\u001b[33m\"\u001b[39m: \u001b[33m'\u001b[39m\u001b[33mPlanningAreaHourlyDemandAndForecastForecastOfAnnualNetEnergyForLoad\u001b[39m\u001b[33m'\u001b[39m,\n\u001b[32m   (...)\u001b[39m\u001b[32m     15\u001b[39m        \u001b[38;5;66;03m# \"respondent_name\": 'RespondentLegalName',\u001b[39;00m\n\u001b[32m     16\u001b[39m     }\n",
      "\u001b[36mFile \u001b[39m\u001b[32m~/.pyenv/versions/3.11.8/lib/python3.11/site-packages/pandas/io/xml.py:1160\u001b[39m, in \u001b[36mread_xml\u001b[39m\u001b[34m(path_or_buffer, xpath, namespaces, elems_only, attrs_only, names, dtype, converters, parse_dates, encoding, parser, stylesheet, iterparse, compression, storage_options, dtype_backend)\u001b[39m\n\u001b[32m    888\u001b[39m \u001b[38;5;250m\u001b[39m\u001b[33mr\u001b[39m\u001b[33;03m\"\"\"\u001b[39;00m\n\u001b[32m    889\u001b[39m \u001b[33;03mRead XML document into a :class:`~pandas.DataFrame` object.\u001b[39;00m\n\u001b[32m    890\u001b[39m \n\u001b[32m   (...)\u001b[39m\u001b[32m   1156\u001b[39m \u001b[33;03m1      1  <NA>  4.5  False  b 2019-12-31\u001b[39;00m\n\u001b[32m   1157\u001b[39m \u001b[33;03m\"\"\"\u001b[39;00m\n\u001b[32m   1158\u001b[39m check_dtype_backend(dtype_backend)\n\u001b[32m-> \u001b[39m\u001b[32m1160\u001b[39m \u001b[38;5;28;01mreturn\u001b[39;00m \u001b[43m_parse\u001b[49m\u001b[43m(\u001b[49m\n\u001b[32m   1161\u001b[39m \u001b[43m    \u001b[49m\u001b[43mpath_or_buffer\u001b[49m\u001b[43m=\u001b[49m\u001b[43mpath_or_buffer\u001b[49m\u001b[43m,\u001b[49m\n\u001b[32m   1162\u001b[39m \u001b[43m    \u001b[49m\u001b[43mxpath\u001b[49m\u001b[43m=\u001b[49m\u001b[43mxpath\u001b[49m\u001b[43m,\u001b[49m\n\u001b[32m   1163\u001b[39m \u001b[43m    \u001b[49m\u001b[43mnamespaces\u001b[49m\u001b[43m=\u001b[49m\u001b[43mnamespaces\u001b[49m\u001b[43m,\u001b[49m\n\u001b[32m   1164\u001b[39m \u001b[43m    \u001b[49m\u001b[43melems_only\u001b[49m\u001b[43m=\u001b[49m\u001b[43melems_only\u001b[49m\u001b[43m,\u001b[49m\n\u001b[32m   1165\u001b[39m \u001b[43m    \u001b[49m\u001b[43mattrs_only\u001b[49m\u001b[43m=\u001b[49m\u001b[43mattrs_only\u001b[49m\u001b[43m,\u001b[49m\n\u001b[32m   1166\u001b[39m \u001b[43m    \u001b[49m\u001b[43mnames\u001b[49m\u001b[43m=\u001b[49m\u001b[43mnames\u001b[49m\u001b[43m,\u001b[49m\n\u001b[32m   1167\u001b[39m \u001b[43m    \u001b[49m\u001b[43mdtype\u001b[49m\u001b[43m=\u001b[49m\u001b[43mdtype\u001b[49m\u001b[43m,\u001b[49m\n\u001b[32m   1168\u001b[39m \u001b[43m    \u001b[49m\u001b[43mconverters\u001b[49m\u001b[43m=\u001b[49m\u001b[43mconverters\u001b[49m\u001b[43m,\u001b[49m\n\u001b[32m   1169\u001b[39m \u001b[43m    \u001b[49m\u001b[43mparse_dates\u001b[49m\u001b[43m=\u001b[49m\u001b[43mparse_dates\u001b[49m\u001b[43m,\u001b[49m\n\u001b[32m   1170\u001b[39m \u001b[43m    \u001b[49m\u001b[43mencoding\u001b[49m\u001b[43m=\u001b[49m\u001b[43mencoding\u001b[49m\u001b[43m,\u001b[49m\n\u001b[32m   1171\u001b[39m \u001b[43m    \u001b[49m\u001b[43mparser\u001b[49m\u001b[43m=\u001b[49m\u001b[43mparser\u001b[49m\u001b[43m,\u001b[49m\n\u001b[32m   1172\u001b[39m \u001b[43m    \u001b[49m\u001b[43mstylesheet\u001b[49m\u001b[43m=\u001b[49m\u001b[43mstylesheet\u001b[49m\u001b[43m,\u001b[49m\n\u001b[32m   1173\u001b[39m \u001b[43m    \u001b[49m\u001b[43miterparse\u001b[49m\u001b[43m=\u001b[49m\u001b[43miterparse\u001b[49m\u001b[43m,\u001b[49m\n\u001b[32m   1174\u001b[39m \u001b[43m    \u001b[49m\u001b[43mcompression\u001b[49m\u001b[43m=\u001b[49m\u001b[43mcompression\u001b[49m\u001b[43m,\u001b[49m\n\u001b[32m   1175\u001b[39m \u001b[43m    \u001b[49m\u001b[43mstorage_options\u001b[49m\u001b[43m=\u001b[49m\u001b[43mstorage_options\u001b[49m\u001b[43m,\u001b[49m\n\u001b[32m   1176\u001b[39m \u001b[43m    \u001b[49m\u001b[43mdtype_backend\u001b[49m\u001b[43m=\u001b[49m\u001b[43mdtype_backend\u001b[49m\u001b[43m,\u001b[49m\n\u001b[32m   1177\u001b[39m \u001b[43m\u001b[49m\u001b[43m)\u001b[49m\n",
      "\u001b[36mFile \u001b[39m\u001b[32m~/.pyenv/versions/3.11.8/lib/python3.11/site-packages/pandas/io/xml.py:830\u001b[39m, in \u001b[36m_parse\u001b[39m\u001b[34m(path_or_buffer, xpath, namespaces, elems_only, attrs_only, names, dtype, converters, parse_dates, encoding, parser, stylesheet, iterparse, compression, storage_options, dtype_backend, **kwargs)\u001b[39m\n\u001b[32m    813\u001b[39m         p = _LxmlFrameParser(\n\u001b[32m    814\u001b[39m             path_or_buffer,\n\u001b[32m    815\u001b[39m             xpath,\n\u001b[32m   (...)\u001b[39m\u001b[32m    827\u001b[39m             storage_options,\n\u001b[32m    828\u001b[39m         )\n\u001b[32m    829\u001b[39m     \u001b[38;5;28;01melse\u001b[39;00m:\n\u001b[32m--> \u001b[39m\u001b[32m830\u001b[39m         \u001b[38;5;28;01mraise\u001b[39;00m \u001b[38;5;167;01mImportError\u001b[39;00m(\u001b[33m\"\u001b[39m\u001b[33mlxml not found, please install or use the etree parser.\u001b[39m\u001b[33m\"\u001b[39m)\n\u001b[32m    832\u001b[39m \u001b[38;5;28;01melif\u001b[39;00m parser == \u001b[33m\"\u001b[39m\u001b[33metree\u001b[39m\u001b[33m\"\u001b[39m:\n\u001b[32m    833\u001b[39m     p = _EtreeFrameParser(\n\u001b[32m    834\u001b[39m         path_or_buffer,\n\u001b[32m    835\u001b[39m         xpath,\n\u001b[32m   (...)\u001b[39m\u001b[32m    847\u001b[39m         storage_options,\n\u001b[32m    848\u001b[39m     )\n",
      "\u001b[31mImportError\u001b[39m: lxml not found, please install or use the etree parser."
     ]
    }
   ],
   "source": [
    "# testing to see what we can pull\n",
    "x = process_xml_data(xml_fpath='form_714_2023/Form_714_2023_ALABAMA_POWER_COMPANY_Q4_5_28_2024__9_43_AM_180926.xml')\n",
    "print(x)"
   ]
  }
 ],
 "metadata": {
  "kernelspec": {
   "display_name": "3.11.8",
   "language": "python",
   "name": "python3"
  },
  "language_info": {
   "codemirror_mode": {
    "name": "ipython",
    "version": 3
   },
   "file_extension": ".py",
   "mimetype": "text/x-python",
   "name": "python",
   "nbconvert_exporter": "python",
   "pygments_lexer": "ipython3",
   "version": "3.11.8"
  }
 },
 "nbformat": 4,
 "nbformat_minor": 5
}
